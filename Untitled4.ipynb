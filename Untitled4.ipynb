{
  "nbformat": 4,
  "nbformat_minor": 0,
  "metadata": {
    "colab": {
      "provenance": [],
      "authorship_tag": "ABX9TyM5xFnk4EzeHeMVOFm1m1In",
      "include_colab_link": true
    },
    "kernelspec": {
      "name": "python3",
      "display_name": "Python 3"
    },
    "language_info": {
      "name": "python"
    }
  },
  "cells": [
    {
      "cell_type": "markdown",
      "metadata": {
        "id": "view-in-github",
        "colab_type": "text"
      },
      "source": [
        "<a href=\"https://colab.research.google.com/github/Syed-Hassan-Tahir/python-Assignment5/blob/main/Untitled4.ipynb\" target=\"_parent\"><img src=\"https://colab.research.google.com/assets/colab-badge.svg\" alt=\"Open In Colab\"/></a>"
      ]
    },
    {
      "cell_type": "code",
      "execution_count": null,
      "metadata": {
        "colab": {
          "base_uri": "https://localhost:8080/"
        },
        "id": "zqIVkxHewLfV",
        "outputId": "efab7f07-f19b-4cb5-fa91-78e7ffd93c27"
      },
      "outputs": [
        {
          "output_type": "stream",
          "name": "stdout",
          "text": [
            "Welcome to the High-Low Game!\n",
            "--------------------------------\n",
            "\n",
            "Round 1\n"
          ]
        }
      ],
      "source": [
        "import random\n",
        "\n",
        "NUM_ROUNDS = 5  # Number of rounds to play\n",
        "\n",
        "def play_high_low():\n",
        "    \"\"\"\n",
        "    Plays the High-Low guessing game with the user for a set number of rounds.\n",
        "    Tracks the player's score and provides feedback messages based on performance.\n",
        "    \"\"\"\n",
        "\n",
        "    print(\"Welcome to the High-Low Game!\")\n",
        "    print(\"--------------------------------\")\n",
        "\n",
        "    total_score = 0\n",
        "\n",
        "    for round_num in range(1, NUM_ROUNDS + 1):\n",
        "        print(f\"\\nRound {round_num}\")\n",
        "\n",
        "        # Generate random numbers for the computer and player\n",
        "        computer_number = random.randint(1, 100)\n",
        "        player_number = random.randint(1, 100)\n",
        "\n",
        "        # Get valid user input (higher or lower)\n",
        "        while True:\n",
        "            guess = input(\"Your number is \" + str(player_number) + \". Do you think it's higher or lower than the computer's?: \").lower()\n",
        "            if guess in (\"higher\", \"lower\"):\n",
        "                break\n",
        "            else:\n",
        "                print(\"Please enter either higher or lower:\")\n",
        "\n",
        "        # Check the guess and update score\n",
        "        if (guess == \"higher\" and player_number > computer_number) or (guess == \"lower\" and player_number < computer_number):\n",
        "            print(\"You were right!\")\n",
        "            total_score += 1\n",
        "        else:\n",
        "            print(f\"Aww, that's incorrect. The computer's number was {computer_number}\")\n",
        "\n",
        "    print(f\"\\nThanks for playing! Your final score is {total_score} out of {NUM_ROUNDS}.\")\n",
        "\n",
        "    # Display conditional ending messages based on performance\n",
        "    if total_score == NUM_ROUNDS:\n",
        "        print(\"Wow! You played perfectly!\")\n",
        "    elif total_score >= NUM_ROUNDS // 2:\n",
        "        print(\"Good job, you played really well!\")\n",
        "    else:\n",
        "        print(\"Better luck next time!\")\n",
        "\n",
        "if __name__ == \"__main__\":\n",
        "    play_high_low()"
      ]
    }
  ]
}